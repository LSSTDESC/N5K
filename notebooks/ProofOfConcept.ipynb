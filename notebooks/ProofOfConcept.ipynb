{
 "cells": [
  {
   "cell_type": "code",
   "execution_count": 1,
   "metadata": {},
   "outputs": [
    {
     "name": "stdout",
     "output_type": "stream",
     "text": [
      "Populating the interactive namespace from numpy and matplotlib\n"
     ]
    }
   ],
   "source": [
    "%pylab inline\n",
    "import sys \n",
    "sys.path.insert(0, '..')\n",
    "from n5k.calculator_base import N5KCalculatorBase\n",
    "import bessel_tools"
   ]
  },
  {
   "cell_type": "code",
   "execution_count": 2,
   "metadata": {},
   "outputs": [],
   "source": [
    "# Loading the results from the CCL calculator\n",
    "clgg = np.load('../tests/test_clgg.npz')\n",
    "clgs = np.load('../tests/test_clgs.npz')\n",
    "clss = np.load('../tests/test_clss.npz')"
   ]
  },
  {
   "cell_type": "code",
   "execution_count": 3,
   "metadata": {},
   "outputs": [
    {
     "data": {
      "text/plain": [
       "[<matplotlib.lines.Line2D at 0x7f5294e13ca0>]"
      ]
     },
     "execution_count": 3,
     "metadata": {},
     "output_type": "execute_result"
    },
    {
     "data": {
      "image/png": "[encoded data removed]",
      "text/plain": [
       "<Figure size 432x288 with 1 Axes>"
      ]
     },
     "metadata": {
      "needs_background": "light"
     },
     "output_type": "display_data"
    }
   ],
   "source": [
    "# And plot some results...\n",
    "loglog(clgg['ls'], clgg['cls'][0])"
   ]
  },
  {
   "cell_type": "code",
   "execution_count": 67,
   "metadata": {},
   "outputs": [],
   "source": [
    "from scipy.special import spherical_jn\n",
    "from bessel_tools import bessel_zeros\n",
    "from scipy.interpolate import interp1d, interp2d\n",
    "from scipy.integrate import simps"
   ]
  },
  {
   "cell_type": "code",
   "execution_count": 5,
   "metadata": {},
   "outputs": [],
   "source": [
    "# My implementation of clgg for instance\n",
    "calc = N5KCalculatorBase('tests/config.yml')\n",
    "pk = calc.get_pk()\n",
    "kernels = calc.get_tracer_kernels()\n",
    "background = calc.get_background()\n",
    "ells = calc.get_ells()"
   ]
  },
  {
   "cell_type": "code",
   "execution_count": 6,
   "metadata": {},
   "outputs": [
    {
     "data": {
      "text/plain": [
       "['z_cl', 'chi_cl', 'kernels_cl', 'z_sh', 'chi_sh', 'kernels_sh']"
      ]
     },
     "execution_count": 6,
     "metadata": {},
     "output_type": "execute_result"
    }
   ],
   "source": [
    "list(kernels.keys())"
   ]
  },
  {
   "cell_type": "code",
   "execution_count": 86,
   "metadata": {},
   "outputs": [],
   "source": [
    "chi_kernel = kernels['chi_sh']\n",
    "k = pk['k']\n",
    "kmax = k[-1]\n",
    "res_factor = 10\n",
    "kmax = kmax / res_factor\n",
    "# Nmax at l=0, this is conservative\n",
    "nmax = int(chi_kernel[-1] * kmax / pi) \n",
    "# Retrieve once and for all the qln we need\n",
    "qln = bessel_zeros(nmax, ells)"
   ]
  },
  {
   "cell_type": "code",
   "execution_count": 87,
   "metadata": {},
   "outputs": [
    {
     "data": {
      "text/plain": [
       "(103, 22140)"
      ]
     },
     "execution_count": 87,
     "metadata": {},
     "output_type": "execute_result"
    }
   ],
   "source": [
    "qln.shape"
   ]
  },
  {
   "cell_type": "code",
   "execution_count": 88,
   "metadata": {},
   "outputs": [],
   "source": [
    "rln = qln / kmax"
   ]
  },
  {
   "cell_type": "code",
   "execution_count": 89,
   "metadata": {},
   "outputs": [
    {
     "data": {
      "text/plain": [
       "<matplotlib.lines.Line2D at 0x7f528b0a5490>"
      ]
     },
     "execution_count": 89,
     "metadata": {},
     "output_type": "execute_result"
    },
    {
     "data": {
      "image/png": "[encoded data removed]",
      "text/plain": [
       "<Figure size 432x288 with 1 Axes>"
      ]
     },
     "metadata": {
      "needs_background": "light"
     },
     "output_type": "display_data"
    }
   ],
   "source": [
    "plot(rln[0])\n",
    "plot(rln[-1])\n",
    "axhline(chi_kernel[-1])"
   ]
  },
  {
   "cell_type": "code",
   "execution_count": 90,
   "metadata": {},
   "outputs": [],
   "source": [
    "# Precompute transformation matrix"
   ]
  },
  {
   "cell_type": "code",
   "execution_count": 91,
   "metadata": {},
   "outputs": [],
   "source": [
    "pref_factor = np.sqrt(2*pi) /( kmax**3 * np.stack([spherical_jn(int(ells[i]+1), qln[i]) \n",
    "          for i in range(len(ells)) ])**2)\n",
    "# Compute Bessel term\n",
    "bessel = np.stack([spherical_jn(int(ells[i]), np.outer(rln[i], k))\n",
    "                  for i in range(len(ells))])"
   ]
  },
  {
   "cell_type": "code",
   "execution_count": 92,
   "metadata": {},
   "outputs": [],
   "source": [
    "# Compute Bessel term\n",
    "bessel = np.stack([spherical_jn(int(ells[i]), np.outer(rln[i], k))\n",
    "                  for i in range(len(ells))])"
   ]
  },
  {
   "cell_type": "code",
   "execution_count": 93,
   "metadata": {},
   "outputs": [],
   "source": [
    "# And here we have our transform matrix\n",
    "T = np.expand_dims(pref_factor, -1) * bessel"
   ]
  },
  {
   "cell_type": "code",
   "execution_count": 94,
   "metadata": {},
   "outputs": [
    {
     "data": {
      "text/plain": [
       "(103, 22140, 200)"
      ]
     },
     "execution_count": 94,
     "metadata": {},
     "output_type": "execute_result"
    }
   ],
   "source": [
    "T.shape"
   ]
  },
  {
   "cell_type": "code",
   "execution_count": null,
   "metadata": {},
   "outputs": [],
   "source": [
    "# The code that needs to be updated at new iterations starts here"
   ]
  },
  {
   "cell_type": "code",
   "execution_count": 95,
   "metadata": {},
   "outputs": [],
   "source": [
    "z2chi = interp1d(background['z'], background['chi'])\n",
    "pk_interp = interp2d(pk['k'], z2chi(pk['z']), pk['pk_nl'])\n",
    "kernels_interp = [interp1d(kernels['chi_sh'], kernels['kernels_cl'][i]/kernels['chi_sh']**2, \n",
    "                      fill_value=0., bounds_error=False ) for i in range(len(kernels['kernels_cl']))]"
   ]
  },
  {
   "cell_type": "code",
   "execution_count": 96,
   "metadata": {},
   "outputs": [],
   "source": [
    "integrand = np.stack([\n",
    "    np.expand_dims(kernels_interp[0](rln[i]),-1) * np.sqrt(pk_interp(k, rln[i])) for i in\n",
    "    range(len(ells))])"
   ]
  },
  {
   "cell_type": "code",
   "execution_count": 97,
   "metadata": {},
   "outputs": [
    {
     "data": {
      "text/plain": [
       "(103, 22140, 200)"
      ]
     },
     "execution_count": 97,
     "metadata": {},
     "output_type": "execute_result"
    }
   ],
   "source": [
    "integrand.shape"
   ]
  },
  {
   "cell_type": "code",
   "execution_count": 109,
   "metadata": {},
   "outputs": [],
   "source": [
    "results =  simps((T * integrand).sum(axis=1)**2*k**2, k)"
   ]
  },
  {
   "cell_type": "code",
   "execution_count": 101,
   "metadata": {},
   "outputs": [
    {
     "data": {
      "text/plain": [
       "<matplotlib.legend.Legend at 0x7f528a6f2dc0>"
      ]
     },
     "execution_count": 101,
     "metadata": {},
     "output_type": "execute_result"
    },
    {
     "data": {
      "image/png": "[encoded data removed]",
      "text/plain": [
       "<Figure size 432x288 with 1 Axes>"
      ]
     },
     "metadata": {
      "needs_background": "light"
     },
     "output_type": "display_data"
    }
   ],
   "source": [
    "loglog(clgg['ls'], clgg['cls'][0], label='CCL - Limber')\n",
    "loglog(ells, results*1.376695**2, label='EiffL - DSBT')\n",
    "legend()"
   ]
  },
  {
   "cell_type": "code",
   "execution_count": 110,
   "metadata": {},
   "outputs": [
    {
     "data": {
      "text/plain": [
       "Text(0.5, 1.0, 'Absolute Relative difference to CCL-Limber')"
      ]
     },
     "execution_count": 110,
     "metadata": {},
     "output_type": "execute_result"
    },
    {
     "data": {
      "image/png": "[encoded data removed]",
      "text/plain": [
       "<Figure size 432x288 with 1 Axes>"
      ]
     },
     "metadata": {
      "needs_background": "light"
     },
     "output_type": "display_data"
    }
   ],
   "source": [
    "loglog(ells, abs(results*1.376695**2-clgg['cls'][0])/clgg['cls'][0])\n",
    "xlabel('ell')\n",
    "title('Absolute Relative difference to CCL-Limber')"
   ]
  },
  {
   "cell_type": "code",
   "execution_count": 85,
   "metadata": {},
   "outputs": [
    {
     "data": {
      "text/plain": [
       "(6.212743850263983e-07, 0.000264058504344136)"
      ]
     },
     "execution_count": 85,
     "metadata": {},
     "output_type": "execute_result"
    },
    {
     "data": {
      "image/png": "[encoded data removed]",
      "text/plain": [
       "<Figure size 432x288 with 1 Axes>"
      ]
     },
     "metadata": {
      "needs_background": "light"
     },
     "output_type": "display_data"
    }
   ],
   "source": [
    "loglog(clgg['ls'], clgg['cls'][0])\n",
    "loglog(ells, results*1.376695**2)\n",
    "ylim( clgg['cls'][0].min(),  clgg['cls'][0].max()+1e-4)"
   ]
  },
  {
   "cell_type": "code",
   "execution_count": null,
   "metadata": {},
   "outputs": [],
   "source": []
  }
 ],
 "metadata": {
  "kernelspec": {
   "display_name": "Python 3",
   "language": "python",
   "name": "python3"
  },
  "language_info": {
   "codemirror_mode": {
    "name": "ipython",
    "version": 3
   },
   "file_extension": ".py",
   "mimetype": "text/x-python",
   "name": "python",
   "nbconvert_exporter": "python",
   "pygments_lexer": "ipython3",
   "version": "3.9.1"
  }
 },
 "nbformat": 4,
 "nbformat_minor": 4
}
