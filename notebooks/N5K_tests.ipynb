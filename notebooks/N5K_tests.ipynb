{
 "cells": [
  {
   "cell_type": "markdown",
   "metadata": {
    "colab_type": "text",
    "id": "view-in-github"
   },
   "source": [
    "<a href=\"https://colab.research.google.com/github/EiffL/N5K/blob/master/notebooks/N5K_tests.ipynb\" target=\"_parent\"><img src=\"https://colab.research.google.com/assets/colab-badge.svg\" alt=\"Open In Colab\"/></a>"
   ]
  },
  {
   "cell_type": "code",
   "execution_count": null,
   "metadata": {
    "colab": {
     "base_uri": "https://localhost:8080/"
    },
    "id": "dkpUuld83eff",
    "outputId": "7aae05c5-57dd-4561-b91c-a29fb4236d06"
   },
   "outputs": [
    {
     "name": "stdout",
     "output_type": "stream",
     "text": [
      "Cloning into 'N5K'...\n",
      "remote: Enumerating objects: 199, done.\u001b[K\n",
      "remote: Counting objects: 100% (199/199), done.\u001b[K\n",
      "remote: Compressing objects: 100% (142/142), done.\u001b[K\n",
      "remote: Total 199 (delta 88), reused 151 (delta 52), pack-reused 0\u001b[K\n",
      "Receiving objects: 100% (199/199), 9.45 MiB | 12.34 MiB/s, done.\n",
      "Resolving deltas: 100% (88/88), done.\n",
      "/content/N5K\n"
     ]
    }
   ],
   "source": [
    "!git clone https://github.com/EiffL/N5K.git\n",
    "%cd N5K"
   ]
  },
  {
   "cell_type": "code",
   "execution_count": null,
   "metadata": {
    "colab": {
     "base_uri": "https://localhost:8080/"
    },
    "id": "RAqkmc83SebW",
    "outputId": "3b723939-bc05-4927-f5ef-5ab1f8a2f1cf"
   },
   "outputs": [
    {
     "name": "stdout",
     "output_type": "stream",
     "text": [
      "Requirement already satisfied: pybind11 in /usr/local/lib/python3.6/dist-packages (2.6.1)\n",
      "Collecting pyccl\n",
      "\u001b[?25l  Downloading https://files.pythonhosted.org/packages/4b/89/72f55258e4712a1d0835aa332c569a0e5630d4bdf58551a39cbbb297f7e2/pyccl-2.1.0.tar.gz (12.0MB)\n",
      "\u001b[K     |████████████████████████████████| 12.0MB 12.4MB/s \n",
      "\u001b[?25hRequirement already satisfied: numpy in /usr/local/lib/python3.6/dist-packages (from pyccl) (1.18.5)\n",
      "Requirement already satisfied: pyyaml in /usr/local/lib/python3.6/dist-packages (from pyccl) (3.13)\n",
      "Building wheels for collected packages: pyccl\n",
      "  Building wheel for pyccl (setup.py) ... \u001b[?25lerror\n",
      "\u001b[31m  ERROR: Failed building wheel for pyccl\u001b[0m\n",
      "\u001b[?25h  Running setup.py clean for pyccl\n",
      "Failed to build pyccl\n",
      "Installing collected packages: pyccl\n",
      "    Running setup.py install for pyccl ... \u001b[?25l\u001b[?25herror\n",
      "\u001b[31mERROR: Command errored out with exit status 1: /usr/bin/python3 -u -c 'import sys, setuptools, tokenize; sys.argv[0] = '\"'\"'/tmp/pip-install-dukbwj58/pyccl/setup.py'\"'\"'; __file__='\"'\"'/tmp/pip-install-dukbwj58/pyccl/setup.py'\"'\"';f=getattr(tokenize, '\"'\"'open'\"'\"', open)(__file__);code=f.read().replace('\"'\"'\\r\\n'\"'\"', '\"'\"'\\n'\"'\"');f.close();exec(compile(code, __file__, '\"'\"'exec'\"'\"'))' install --record /tmp/pip-record-zl5pj7gt/install-record.txt --single-version-externally-managed --compile Check the logs for full command output.\u001b[0m\n",
      "Obtaining file:///content/N5K\n",
      "Installing collected packages: N5K\n",
      "  Found existing installation: N5K 0.0.1\n",
      "    Can't uninstall 'N5K'. No files were found to uninstall.\n",
      "  Running setup.py develop for N5K\n",
      "Successfully installed N5K\n"
     ]
    }
   ],
   "source": [
    "!pip install pybind11 pyccl\n",
    "!pip install -e ."
   ]
  },
  {
   "cell_type": "code",
   "execution_count": null,
   "metadata": {
    "colab": {
     "base_uri": "https://localhost:8080/"
    },
    "id": "feXP8NzK3k_g",
    "outputId": "6ad0d142-7f21-4086-ae01-c1c72846136b"
   },
   "outputs": [
    {
     "name": "stdout",
     "output_type": "stream",
     "text": [
      "Populating the interactive namespace from numpy and matplotlib\n"
     ]
    }
   ],
   "source": [
    "%pylab inline\n",
    "from n5k.calculator_base import N5KCalculatorBase"
   ]
  },
  {
   "cell_type": "code",
   "execution_count": null,
   "metadata": {
    "id": "VmaEZVlS3uiq"
   },
   "outputs": [],
   "source": [
    "calc = N5KCalculatorBase('tests/config.yml')"
   ]
  },
  {
   "cell_type": "code",
   "execution_count": null,
   "metadata": {
    "id": "cDGvybrM40mq"
   },
   "outputs": [],
   "source": [
    "pk = calc.get_pk()\n",
    "kernels = calc.get_tracer_kernels()\n",
    "background = calc.get_background()"
   ]
  },
  {
   "cell_type": "code",
   "execution_count": null,
   "metadata": {
    "colab": {
     "base_uri": "https://localhost:8080/"
    },
    "id": "D-MALqRw5JJB",
    "outputId": "4fae0eee-0ddb-41c0-f605-5192fd7c2242"
   },
   "outputs": [
    {
     "data": {
      "text/plain": [
       "['k', 'z', 'pk_nl', 'pk_lin']"
      ]
     },
     "execution_count": 78,
     "metadata": {
      "tags": []
     },
     "output_type": "execute_result"
    }
   ],
   "source": [
    "[i for i in pk.keys()]"
   ]
  },
  {
   "cell_type": "code",
   "execution_count": null,
   "metadata": {
    "colab": {
     "base_uri": "https://localhost:8080/"
    },
    "id": "q0haBsUR6g5_",
    "outputId": "52d630b6-94b4-47d4-c150-1457348bd42b"
   },
   "outputs": [
    {
     "data": {
      "text/plain": [
       "['z_cl', 'chi_cl', 'kernels_cl', 'z_sh', 'chi_sh', 'kernels_sh']"
      ]
     },
     "execution_count": 79,
     "metadata": {
      "tags": []
     },
     "output_type": "execute_result"
    }
   ],
   "source": [
    "[i for i in kernels.keys()]"
   ]
  },
  {
   "cell_type": "code",
   "execution_count": null,
   "metadata": {
    "colab": {
     "base_uri": "https://localhost:8080/"
    },
    "id": "j9F8p29x6qyF",
    "outputId": "069cd618-a694-47a5-e1b2-d9edb2e72bf5"
   },
   "outputs": [
    {
     "data": {
      "text/plain": [
       "['z', 'chi', 'Ez']"
      ]
     },
     "execution_count": 80,
     "metadata": {
      "tags": []
     },
     "output_type": "execute_result"
    }
   ],
   "source": [
    "[i for i in background.keys()]"
   ]
  },
  {
   "cell_type": "code",
   "execution_count": null,
   "metadata": {
    "id": "HRA4irvX7KwD"
   },
   "outputs": [],
   "source": [
    "# Create conversion table from z to chi\n",
    "from scipy.interpolate import interp1d, interp2d\n",
    "chi2z = interp1d(background['chi'], background['z'])\n",
    "z2chi = interp1d(background['z'], background['chi'])\n",
    "# Create power spectrum interpolator in k and chi\n",
    "pk_interp = interp2d(pk['k'], z2chi(pk['z']), pk['pk_nl'])\n",
    "# Create window interpolator\n",
    "kernel_interp = interp1d(kernels['chi_sh'], kernels['kernels_sh'][0], \n",
    "                      fill_value=0., bounds_error=False )"
   ]
  },
  {
   "cell_type": "code",
   "execution_count": null,
   "metadata": {
    "colab": {
     "base_uri": "https://localhost:8080/",
     "height": 287
    },
    "id": "ednJpa2x55Zo",
    "outputId": "3be51575-48d3-4a02-e80f-f7b99870fa5e"
   },
   "outputs": [
    {
     "data": {
      "text/plain": [
       "[<matplotlib.lines.Line2D at 0x7f9e4052bdd8>]"
      ]
     },
     "execution_count": 87,
     "metadata": {
      "tags": []
     },
     "output_type": "execute_result"
    },
    {
     "data": {
      "image/png": "[encoded data removed]",
      "text/plain": [
       "<Figure size 432x288 with 1 Axes>"
      ]
     },
     "metadata": {
      "needs_background": "light",
      "tags": []
     },
     "output_type": "display_data"
    }
   ],
   "source": [
    "loglog(pk['k'],pk['pk_nl'][10])\n",
    "loglog(pk['k'],pk_interp(pk['k'], z2chi(pk['z'][10])))"
   ]
  },
  {
   "cell_type": "markdown",
   "metadata": {
    "id": "iWEdgEkN7Pc3"
   },
   "source": [
    "## OK, time to implement some bessel transforms\n",
    "\n",
    "The idea is that we can compute\n",
    "$$C_l = \\int_k k^2 \\int_{r_1} w(r_1) \\sqrt{(P(k, r_1))} j_l(k r_1) dr_1 \\int_{r_2} w(r_2)  \\sqrt{(P(k, r_2))} j_l(k r_2) d r_2 $$\n",
    "\n",
    "Each of the inner integrals can be computed by discrete spherical bessel transform because $w(r)$ goes to zero at some point. We can solve both on a grid\n",
    "of k values, and then compute the integral maybe with a spline or smthg.\n",
    "\n",
    "The additional cool trick I have up my sleeve is that we only need to do this for l=0 if I remember correctly, we can compute all other transforms at other ells using a correction factor.\n",
    "\n",
    "\n",
    "\n",
    "So all we need to do, is to implement a jax version of the DSBT :-D 9 years after its inception!\n"
   ]
  },
  {
   "cell_type": "code",
   "execution_count": null,
   "metadata": {
    "id": "hQmDw9Sp_OHA"
   },
   "outputs": [],
   "source": [
    "import jax.numpy as jnp\n",
    "from scipy.special import spherical_jn\n",
    "from bessel_tools import bessel_zeros"
   ]
  },
  {
   "cell_type": "code",
   "execution_count": null,
   "metadata": {
    "id": "ntM7Utox93u-"
   },
   "outputs": [],
   "source": [
    "q0 = (np.arange(1000)+1)*pi"
   ]
  },
  {
   "cell_type": "code",
   "execution_count": null,
   "metadata": {
    "id": "FRKtmtOL9VJk"
   },
   "outputs": [],
   "source": [
    "# For a given range of k \n",
    "k = pk['k']\n",
    "# For a given l\n",
    "l = 10\n",
    "# Let's compute the corresponding rln\n",
    "kmax = k[-1]"
   ]
  },
  {
   "cell_type": "code",
   "execution_count": null,
   "metadata": {
    "id": "hwT2N7KS9_MH"
   },
   "outputs": [],
   "source": [
    "# Nmax at l=0, this is conservative\n",
    "nmax = int(kernels['chi_sh'][-1] * kmax / pi)"
   ]
  },
  {
   "cell_type": "code",
   "execution_count": null,
   "metadata": {
    "id": "0bqGi7R9-KcT"
   },
   "outputs": [],
   "source": [
    "# Compute the bessel zeros that correspond to these requirements\n",
    "qln = bessel_zeros(l, nmax)"
   ]
  },
  {
   "cell_type": "code",
   "execution_count": null,
   "metadata": {
    "id": "PKy6lJ0_-aE0"
   },
   "outputs": [],
   "source": [
    "# From which we derive rln\n",
    "rln = qln[10] / kmax\n",
    "rmax = rln[-1]"
   ]
  },
  {
   "cell_type": "code",
   "execution_count": null,
   "metadata": {
    "id": "C1TVD2t0-8pj"
   },
   "outputs": [],
   "source": [
    "# So, now, we can compute the transform \n",
    "def transform(k):\n",
    "  integrand = kernel_interp(rln) * np.sqrt(pk_interp(k, rln))\n",
    "  return 1. / kmax**3 integrand.dot(  np.sqrt(2*pi) / spherical_jn(l+1, qln[l])**2 *spherical_jn(l, rln * k))"
   ]
  },
  {
   "cell_type": "code",
   "execution_count": null,
   "metadata": {
    "id": "k25FKK1t-8i5"
   },
   "outputs": [],
   "source": [
    "integrand = (kernel_interp(rln) * np.sqrt(pk_interp(k, rln)).T)"
   ]
  },
  {
   "cell_type": "code",
   "execution_count": null,
   "metadata": {
    "id": "2H4Lio5qBLbc"
   },
   "outputs": [],
   "source": [
    "transformed = 1. / kmax**3 * integrand * (  np.sqrt(2*pi) / spherical_jn(l+1, qln[l])**2 * spherical_jn(l, np.outer(rln, k)).T)"
   ]
  },
  {
   "cell_type": "code",
   "execution_count": null,
   "metadata": {
    "id": "E2_kOiY3BLYv"
   },
   "outputs": [],
   "source": [
    "transformed = transformed.sum(axis=1)"
   ]
  },
  {
   "cell_type": "code",
   "execution_count": null,
   "metadata": {
    "colab": {
     "base_uri": "https://localhost:8080/",
     "height": 287
    },
    "id": "TJk7zTqSBLVw",
    "outputId": "11b34201-38de-4046-8a87-6c9887b44da7"
   },
   "outputs": [
    {
     "data": {
      "text/plain": [
       "[<matplotlib.lines.Line2D at 0x7f9e3fb5b9b0>]"
      ]
     },
     "execution_count": 137,
     "metadata": {
      "tags": []
     },
     "output_type": "execute_result"
    },
    {
     "data": {
      "image/png": "[encoded data removed]",
      "text/plain": [
       "<Figure size 432x288 with 1 Axes>"
      ]
     },
     "metadata": {
      "needs_background": "light",
      "tags": []
     },
     "output_type": "display_data"
    }
   ],
   "source": [
    "loglog(k, transformed**2*k**2)"
   ]
  },
  {
   "cell_type": "code",
   "execution_count": null,
   "metadata": {
    "id": "pKNboINPCgkV"
   },
   "outputs": [],
   "source": [
    "from scipy.integrate import simps"
   ]
  },
  {
   "cell_type": "code",
   "execution_count": null,
   "metadata": {
    "colab": {
     "base_uri": "https://localhost:8080/"
    },
    "id": "GkpjHoPGCx3r",
    "outputId": "9136d9a3-aa2a-4e46-e198-ea4c97310712"
   },
   "outputs": [
    {
     "data": {
      "text/plain": [
       "1648.1366007572651"
      ]
     },
     "execution_count": 144,
     "metadata": {
      "tags": []
     },
     "output_type": "execute_result"
    }
   ],
   "source": [
    "simps(transformed[:100]**2*k[:100]**2, k[:100])"
   ]
  },
  {
   "cell_type": "code",
   "execution_count": null,
   "metadata": {
    "colab": {
     "base_uri": "https://localhost:8080/"
    },
    "id": "OAtZjsDqCuNN",
    "outputId": "f28cf56d-d0c6-429b-d3c7-4caa2c03c788"
   },
   "outputs": [
    {
     "data": {
      "text/plain": [
       "0.10353218432956615"
      ]
     },
     "execution_count": 142,
     "metadata": {
      "tags": []
     },
     "output_type": "execute_result"
    }
   ],
   "source": [
    "k[100]"
   ]
  },
  {
   "cell_type": "code",
   "execution_count": null,
   "metadata": {
    "id": "MT8r79qT9Cab"
   },
   "outputs": [],
   "source": [
    "def transform(l, k):\n",
    "\n",
    "  \n",
    "  # Compute the transform matrix\n",
    "  T = np.einsum('')"
   ]
  },
  {
   "cell_type": "code",
   "execution_count": null,
   "metadata": {
    "id": "l5sMn5iZ9CQb"
   },
   "outputs": [],
   "source": []
  },
  {
   "cell_type": "code",
   "execution_count": null,
   "metadata": {
    "id": "wM0qKZWbupcc"
   },
   "outputs": [],
   "source": [
    "class DiscreteSphericalBesselTransform:\n",
    "  \"\"\"\n",
    "  Class for computing a DSBT, based on method proposed in \n",
    "  Lanusse et al. 2011\n",
    "  \"\"\"\n",
    "  def __init__(self, rmax, kmax, lmax=10):\n",
    "    \"\"\" Initializes a new transform\n",
    "\n",
    "    Parameters\n",
    "    ----------\n",
    "      chimax: float\n",
    "        Maximum non-zero radial value\n",
    "      kmax: float\n",
    "        Maximum non-zero scale\n",
    "    \"\"\"\n",
    "    # Rough estimate of the number of bessel zeros we will need for this\n",
    "    # transform\n",
    "    bess_zeros = bessel_zeros(0, 10000)\n",
    "    # Nmax so that qlNmax = kmax * rmax\n",
    "    nmax = where(bess_zeros[0] > kmax * rmax)[0][0]\n",
    "    self.rmax = rmax\n",
    "    self.kmax = kmax\n",
    "    self.nmax = nmax\n",
    "    # We can now compute the bessel zeros that will be needed for the\n",
    "    # transform\n",
    "    self.qln = bessel_zeros(lmax, nmax)\n",
    "    # And, we can precompute the transformation matrix at l=0\n",
    "    self.T = (2 * pi) / spherical_jn(1, q[0])**2 *spherical_jn(0, np.einsum('j,k->jk', q[0],q[0]) / q[0,-1])\n",
    "def discrete_spherical_bessel_transform():\n",
    "  \"\"\"\n",
    "\n",
    "  \"\"\"\n"
   ]
  },
  {
   "cell_type": "code",
   "execution_count": null,
   "metadata": {
    "id": "-k_mG76NzPWQ"
   },
   "outputs": [],
   "source": [
    "# Step I: compute transform of l=0\n",
    "# in this case, the qlns are simply equispaced by pi\n",
    "q0 = (np.arange(1000)+1)*pi"
   ]
  },
  {
   "cell_type": "code",
   "execution_count": null,
   "metadata": {
    "id": "g9pr4MUj0dYo"
   },
   "outputs": [],
   "source": [
    "rmax = kernels['chi_sh'][-1]\n",
    "kmax = q0.max() / rmax"
   ]
  },
  {
   "cell_type": "code",
   "execution_count": null,
   "metadata": {
    "id": "kIfqoC4yzqHs"
   },
   "outputs": [],
   "source": [
    "# Step II: compute the transform matrix and corresponding r_ln grid\n",
    "T0 = (2 * pi) / spherical_jn(1, q0)**2 *spherical_jn(0, np.einsum('j,k->jk', q0, q0) / q0[-1])\n",
    "r0 = q0/kmax\n",
    "k0 = q0/rmax"
   ]
  },
  {
   "cell_type": "code",
   "execution_count": null,
   "metadata": {
    "id": "T382ouZqzp_Y"
   },
   "outputs": [],
   "source": [
    "# Step III: get the integrand function\n",
    "from scipy.interpolate import interp1d\n",
    "integrand = interp1d(kernels['chi_sh'], kernels['kernels_sh'][0] / kernels['chi_sh']**2 , \n",
    "                      fill_value=0., bounds_error=False )"
   ]
  },
  {
   "cell_type": "code",
   "execution_count": null,
   "metadata": {
    "id": "E3O5EcTBy5jj"
   },
   "outputs": [],
   "source": [
    "# DSBT transformed of integrand\n",
    "transformed = 1/kmax**3 * T0.dot(integrand(r0))"
   ]
  },
  {
   "cell_type": "code",
   "execution_count": null,
   "metadata": {
    "colab": {
     "base_uri": "https://localhost:8080/",
     "height": 287
    },
    "id": "Zn1pYwE2y5mU",
    "outputId": "5d666e9b-a20a-4576-9168-cff3c12322de"
   },
   "outputs": [
    {
     "data": {
      "text/plain": [
       "[<matplotlib.lines.Line2D at 0x7f9e40dc5080>]"
      ]
     },
     "execution_count": 65,
     "metadata": {
      "tags": []
     },
     "output_type": "execute_result"
    },
    {
     "data": {
      "image/png": "[encoded data removed]",
      "text/plain": [
       "<Figure size 432x288 with 1 Axes>"
      ]
     },
     "metadata": {
      "needs_background": "light",
      "tags": []
     },
     "output_type": "display_data"
    }
   ],
   "source": [
    "# And here is the result\n",
    "loglog(k0, transformed)"
   ]
  },
  {
   "cell_type": "code",
   "execution_count": null,
   "metadata": {
    "colab": {
     "base_uri": "https://localhost:8080/"
    },
    "id": "uzBF-kWny5ot",
    "outputId": "fab73f93-2c01-4857-e5d6-4c25146a3a08"
   },
   "outputs": [
    {
     "data": {
      "text/plain": [
       "100.0"
      ]
     },
     "execution_count": 67,
     "metadata": {
      "tags": []
     },
     "output_type": "execute_result"
    }
   ],
   "source": [
    "def transform(k, r,  )\n",
    "pk['k'][-1]"
   ]
  },
  {
   "cell_type": "code",
   "execution_count": null,
   "metadata": {
    "id": "LCy8N8oPACQ9"
   },
   "outputs": [],
   "source": [
    "bess_zeros = bessel_zeros(2, 10000)"
   ]
  },
  {
   "cell_type": "code",
   "execution_count": null,
   "metadata": {
    "id": "Es7K3XJmAMnN"
   },
   "outputs": [],
   "source": [
    "chimax = kernels['chi_sh'][-1]\n",
    "kmax = pk['k'][-1]/100\n",
    "nmax = where(bess_zeros[1] > kmax * chimax)[0][0]"
   ]
  },
  {
   "cell_type": "code",
   "execution_count": null,
   "metadata": {
    "id": "ZVD2Fk30AVGa"
   },
   "outputs": [],
   "source": [
    "#plot(kernels['chi_sh'], kernels['kernels_cl'][-1])\n",
    "plot(kernels['chi_sh'], kernels['kernels_sh'][0])"
   ]
  },
  {
   "cell_type": "code",
   "execution_count": null,
   "metadata": {
    "id": "7ZgkZFfjCdD0"
   },
   "outputs": [],
   "source": [
    "q = bessel_zeros(100, nmax)"
   ]
  },
  {
   "cell_type": "code",
   "execution_count": null,
   "metadata": {
    "colab": {
     "base_uri": "https://localhost:8080/"
    },
    "id": "V9bHpsdeTZ2G",
    "outputId": "ddb81e5e-47e8-465c-a21e-d9c4f8b0b1bc"
   },
   "outputs": [
    {
     "data": {
      "text/plain": [
       "(101, 2213)"
      ]
     },
     "execution_count": 28,
     "metadata": {
      "tags": []
     },
     "output_type": "execute_result"
    }
   ],
   "source": [
    "q.shape"
   ]
  },
  {
   "cell_type": "code",
   "execution_count": null,
   "metadata": {
    "id": "-T5v_42wVTQ1"
   },
   "outputs": [],
   "source": [
    "T = (np.einsum('ij,ik->ijk', q[:-1],q[:-1]).T / q[:-1,-1]).T"
   ]
  },
  {
   "cell_type": "code",
   "execution_count": null,
   "metadata": {
    "id": "5LPHKkdHXCwg"
   },
   "outputs": [],
   "source": [
    "T00 = np.sqrt(2 * pi) / spherical_jn(1, q[0])**2 * spherical_jn(0, T[0])"
   ]
  },
  {
   "cell_type": "code",
   "execution_count": null,
   "metadata": {
    "id": "qC2GJWilVoLO"
   },
   "outputs": [],
   "source": [
    "rln = q[0] / kmax\n",
    "kln = q[0] / chimax"
   ]
  },
  {
   "cell_type": "code",
   "execution_count": null,
   "metadata": {
    "id": "Nhwgrk0JFLsJ"
   },
   "outputs": [],
   "source": [
    "# So, now, we can compute the transform\n",
    "from scipy.interpolate import interp1d"
   ]
  },
  {
   "cell_type": "code",
   "execution_count": null,
   "metadata": {
    "id": "iDlSjJbGYqq9"
   },
   "outputs": [],
   "source": [
    "kernel_rln = interp1d(kernels['chi_sh'], \n",
    "                      kernels['kernels_sh'][0], \n",
    "                      fill_value=0., bounds_error=False )(rln)"
   ]
  },
  {
   "cell_type": "code",
   "execution_count": null,
   "metadata": {
    "colab": {
     "base_uri": "https://localhost:8080/",
     "height": 293
    },
    "id": "1dt__mRTZ-Mq",
    "outputId": "f5bf27f2-a355-4661-da5f-f8bdc6bad44b"
   },
   "outputs": [
    {
     "data": {
      "text/plain": [
       "[<matplotlib.lines.Line2D at 0x7f0773758ba8>]"
      ]
     },
     "execution_count": 70,
     "metadata": {
      "tags": []
     },
     "output_type": "execute_result"
    },
    {
     "data": {
      "image/png": "[encoded data removed]",
      "text/plain": [
       "<Figure size 432x288 with 1 Axes>"
      ]
     },
     "metadata": {
      "needs_background": "light",
      "tags": []
     },
     "output_type": "display_data"
    }
   ],
   "source": [
    "plot(rln, kernel_rln)"
   ]
  },
  {
   "cell_type": "code",
   "execution_count": null,
   "metadata": {
    "id": "Y0PmCTuIaUt3"
   },
   "outputs": [],
   "source": [
    "transformed = T00.dot(kernel_rln)"
   ]
  },
  {
   "cell_type": "code",
   "execution_count": null,
   "metadata": {
    "colab": {
     "base_uri": "https://localhost:8080/",
     "height": 286
    },
    "id": "SUzwv4yzbSAk",
    "outputId": "b35b89e2-b122-411b-f60d-af70ba20c94f"
   },
   "outputs": [
    {
     "data": {
      "text/plain": [
       "[<matplotlib.lines.Line2D at 0x7f07738d8c88>]"
      ]
     },
     "execution_count": 73,
     "metadata": {
      "tags": []
     },
     "output_type": "execute_result"
    },
    {
     "data": {
      "image/png": "[encoded data removed]",
      "text/plain": [
       "<Figure size 432x288 with 1 Axes>"
      ]
     },
     "metadata": {
      "needs_background": "light",
      "tags": []
     },
     "output_type": "display_data"
    }
   ],
   "source": [
    "loglog(kln, abs(transformed))"
   ]
  },
  {
   "cell_type": "code",
   "execution_count": null,
   "metadata": {
    "id": "5eLQapVBbW0t"
   },
   "outputs": [],
   "source": [
    "rec = T00.dot(transformed)"
   ]
  },
  {
   "cell_type": "code",
   "execution_count": null,
   "metadata": {
    "colab": {
     "base_uri": "https://localhost:8080/",
     "height": 293
    },
    "id": "iE9XWyPlcAAX",
    "outputId": "650daeff-a001-4118-95f9-5828ad861769"
   },
   "outputs": [
    {
     "data": {
      "text/plain": [
       "[<matplotlib.lines.Line2D at 0x7f0770c3e438>]"
      ]
     },
     "execution_count": 75,
     "metadata": {
      "tags": []
     },
     "output_type": "execute_result"
    },
    {
     "data": {
      "image/png": "[encoded data removed]",
      "text/plain": [
       "<Figure size 432x288 with 1 Axes>"
      ]
     },
     "metadata": {
      "needs_background": "light",
      "tags": []
     },
     "output_type": "display_data"
    }
   ],
   "source": [
    "plot(rln, rec)\n"
   ]
  },
  {
   "cell_type": "code",
   "execution_count": null,
   "metadata": {
    "id": "ijWhVUTkcFHQ"
   },
   "outputs": [],
   "source": []
  }
 ],
 "metadata": {
  "colab": {
   "authorship_tag": "ABX9TyMWSngQ5D509jF5z/N7r5Cg",
   "collapsed_sections": [],
   "include_colab_link": true,
   "name": "N5K.ipynb",
   "provenance": []
  },
  "kernelspec": {
   "display_name": "Python 3",
   "language": "python",
   "name": "python3"
  },
  "language_info": {
   "codemirror_mode": {
    "name": "ipython",
    "version": 3
   },
   "file_extension": ".py",
   "mimetype": "text/x-python",
   "name": "python",
   "nbconvert_exporter": "python",
   "pygments_lexer": "ipython3",
   "version": "3.9.1"
  }
 },
 "nbformat": 4,
 "nbformat_minor": 1
}
